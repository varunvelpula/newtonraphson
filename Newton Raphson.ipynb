{
 "cells": [
  {
   "cell_type": "code",
   "execution_count": 5,
   "metadata": {
    "scrolled": true
   },
   "outputs": [
    {
     "name": "stdout",
     "output_type": "stream",
     "text": [
      "229.87921393756747\n",
      "64.13393753507818\n"
     ]
    },
    {
     "data": {
      "image/png": "[encoded data removed]",
      "text/plain": [
       "<Figure size 432x288 with 1 Axes>"
      ]
     },
     "metadata": {},
     "output_type": "display_data"
    }
   ],
   "source": [
    "# newton raphson method of optimization implementation\n",
    "import numpy as np\n",
    "import matplotlib.pyplot as plt\n",
    "\n",
    "class newtonraphson:\n",
    "    def __init__(self,w0,t0,error,n):\n",
    "        self.w0 = w0 \n",
    "        self.t0 = t0     \n",
    "        self.error = error\n",
    "        self.n = n\n",
    "    def noise(self,mean,variance):\n",
    "        return(np.random.normal(mean,variance))\n",
    "    def function(self,w,t):\n",
    "        return(np.array([t-(18+11*w-0.12*w**2),t-(0.7*w+185)]))\n",
    "    def derivative(self,f,w,t):\n",
    "        return(np.array([[1+self.noise(100,1.5),-11+0.24*w+self.noise(100,1.5)],[1+self.noise(100,1.5),-0.7+self.noise(100,1.5)]]))\n",
    "    def newtonraphson(self):\n",
    "        w0 = self.w0\n",
    "        t0 = self.t0\n",
    "        reg = []\n",
    "        for i in range(self.n):\n",
    "            f = self.function(w0,t0)\n",
    "            df = self.derivative(f,w0,t0)\n",
    "            del_t,del_w = np.linalg.solve(df,-f)\n",
    "            reg.append(del_t**2+del_w**2)\n",
    "            if(abs(del_t)<self.error and abs(del_w)<self.error):\n",
    "                print(del_t+t0)\n",
    "                print(del_w+w0)\n",
    "                break\n",
    "            else:\n",
    "                w0 = w0+del_w\n",
    "                t0 = t0+del_t\n",
    "            if(i==self.n-1 and (abs(del_t)>self.error or abs(del_w)>self.error)):\n",
    "                print(\"Not coverging\")\n",
    "        plt.plot(reg)\n",
    "        plt.ylabel('Regression')\n",
    "        plt.xlabel('Iteration step')\n",
    "        plt.savefig('Regression_graph.png')\n",
    "        plt.show()\n",
    "        \n",
    "        File_object = open(r\"Output.txt\",\"w+\")\n",
    "        L = ['The optimal is obtained for the following values of T and W','\\n','T = ', str(del_t+t0), '\\n', 'W = ', str(del_w+w0),'\\n']\n",
    "        File_object.writelines(L)\n",
    "        File_object.close()\n",
    "if __name__=='__main__':\n",
    "    nr = newtonraphson(60,200,0.0001,1000)\n",
    "    nr.newtonraphson()"
   ]
  },
  {
   "cell_type": "code",
   "execution_count": null,
   "metadata": {},
   "outputs": [],
   "source": []
  }
 ],
 "metadata": {
  "kernelspec": {
   "display_name": "Python 3",
   "language": "python",
   "name": "python3"
  },
  "language_info": {
   "codemirror_mode": {
    "name": "ipython",
    "version": 3
   },
   "file_extension": ".py",
   "mimetype": "text/x-python",
   "name": "python",
   "nbconvert_exporter": "python",
   "pygments_lexer": "ipython3",
   "version": "3.6.5"
  }
 },
 "nbformat": 4,
 "nbformat_minor": 2
}
